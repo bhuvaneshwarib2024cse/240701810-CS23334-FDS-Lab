{
 "cells": [
  {
   "cell_type": "code",
   "execution_count": 5,
   "id": "89acad6c-313b-4ae1-8418-c44f6b502c26",
   "metadata": {},
   "outputs": [],
   "source": [
    "import numpy as np\n",
    "import scipy.stats as stats\n",
    "from statsmodels.stats.multicomp import pairwise_tukeyhsd"
   ]
  },
  {
   "cell_type": "code",
   "execution_count": 6,
   "id": "15b0a0c7-a650-46cd-8417-8d1ff2119e88",
   "metadata": {},
   "outputs": [],
   "source": [
    "np.random.seed(42)\n",
    "n_plants = 25\n",
    "growth_A = np.random.normal(loc=10, scale=2, size=n_plants)\n",
    "growth_B = np.random.normal(loc=12, scale=3, size=n_plants)\n",
    "growth_C = np.random.normal(loc=15, scale=2.5, size=n_plants)"
   ]
  },
  {
   "cell_type": "code",
   "execution_count": 7,
   "id": "6bd18cfd-0b4e-460c-a52f-ec70ec4cc0b6",
   "metadata": {},
   "outputs": [],
   "source": [
    "all_data = np.concatenate([growth_A, growth_B, growth_C])\n",
    "treatment_labels = ['A'] * n_plants + ['B'] * n_plants + ['C'] * n_plants"
   ]
  },
  {
   "cell_type": "code",
   "execution_count": 8,
   "id": "32b12d54-b78c-4dfa-ab6e-e6b52ae924c8",
   "metadata": {},
   "outputs": [],
   "source": [
    "f_statistic, p_value = stats.f_oneway(growth_A, growth_B, growth_C)"
   ]
  },
  {
   "cell_type": "code",
   "execution_count": 11,
   "id": "54bc5e13-8e9d-4294-9922-db54db7e313f",
   "metadata": {},
   "outputs": [
    {
     "name": "stdout",
     "output_type": "stream",
     "text": [
      "Treatment A Mean Growth: 9.672983882683818\n",
      "Treatment B Mean Growth: 11.137680744437432\n",
      "Treatment C Mean Growth: 15.265234904828972\n",
      "\n",
      "F-Statistic: 36.1214\n",
      "P-Value: 0.0000\n",
      "Reject the null hypothesis: There is a significant difference in mean growth rates among the three treatments.\n"
     ]
    }
   ],
   "source": [
    "print(\"Treatment A Mean Growth:\", np.mean(growth_A))\n",
    "print(\"Treatment B Mean Growth:\", np.mean(growth_B))\n",
    "print(\"Treatment C Mean Growth:\", np.mean(growth_C))\n",
    "print()\n",
    "print(f\"F-Statistic: {f_statistic:.4f}\")\n",
    "print(f\"P-Value: {p_value:.4f}\")\n",
    "alpha = 0.05\n",
    "if p_value < alpha:\n",
    "    print(\"Reject the null hypothesis: There is a significant difference in mean growth rates among the three treatments.\")\n",
    "else:\n",
    "    print(\"Fail to reject the null hypothesis: There is no significant difference in mean growth rates among the three treatments.\")"
   ]
  },
  {
   "cell_type": "code",
   "execution_count": null,
   "id": "371f51c2-90a5-40e2-9b1e-f2c062d38c84",
   "metadata": {},
   "outputs": [],
   "source": []
  }
 ],
 "metadata": {
  "kernelspec": {
   "display_name": "Python 3 (ipykernel)",
   "language": "python",
   "name": "python3"
  },
  "language_info": {
   "codemirror_mode": {
    "name": "ipython",
    "version": 3
   },
   "file_extension": ".py",
   "mimetype": "text/x-python",
   "name": "python",
   "nbconvert_exporter": "python",
   "pygments_lexer": "ipython3",
   "version": "3.13.5"
  }
 },
 "nbformat": 4,
 "nbformat_minor": 5
}
