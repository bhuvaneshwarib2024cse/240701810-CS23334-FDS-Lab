{
 "cells": [
  {
   "cell_type": "code",
   "execution_count": 1,
   "id": "1e92924d-d146-47ac-988e-7bb11a42047d",
   "metadata": {},
   "outputs": [],
   "source": [
    "import numpy as np\n",
    "import scipy.stats as stats"
   ]
  },
  {
   "cell_type": "code",
   "execution_count": 2,
   "id": "046d5ef3-41b6-4664-a210-cb7d45dcbd16",
   "metadata": {},
   "outputs": [],
   "source": [
    "sample_data = np.array([\n",
    "    152, 148, 151, 149, 147, 153, 150, 148, 152, 149,\n",
    "    151, 150, 149, 152, 151, 148, 150, 152, 149, 150,\n",
    "    148, 153, 151, 150, 149, 152, 148, 151, 150, 153\n",
    "])\n",
    "population_mean = 150"
   ]
  },
  {
   "cell_type": "code",
   "execution_count": 3,
   "id": "a085e832-f3b3-4a7d-8d18-4bac31c8e187",
   "metadata": {},
   "outputs": [],
   "source": [
    "sample_mean = np.mean(sample_data)\n",
    "sample_std = np.std(sample_data, ddof=1)\n",
    "n = len(sample_data)"
   ]
  },
  {
   "cell_type": "code",
   "execution_count": 4,
   "id": "611727b9-9aa6-4fc4-9310-787c6353c9f1",
   "metadata": {},
   "outputs": [],
   "source": [
    "z_statistic = (sample_mean - population_mean) / (sample_std / np.sqrt(n))\n",
    "p_value = 2 * (1 - stats.norm.cdf(np.abs(z_statistic)))"
   ]
  },
  {
   "cell_type": "code",
   "execution_count": 5,
   "id": "ebc60299-d013-4866-8b92-3c65c92789b7",
   "metadata": {},
   "outputs": [
    {
     "name": "stdout",
     "output_type": "stream",
     "text": [
      "Sample Mean: 150.20\n",
      "Z-Statistic: 0.6406\n",
      "P-Value: 0.5218\n",
      "Fail to reject the null hypothesis: There is no significant difference in average weight from 150 grams.\n"
     ]
    }
   ],
   "source": [
    "print(f\"Sample Mean: {sample_mean:.2f}\")\n",
    "print(f\"Z-Statistic: {z_statistic:.4f}\")\n",
    "print(f\"P-Value: {p_value:.4f}\")\n",
    "alpha = 0.05\n",
    "if p_value < alpha:\n",
    "    print(\"Reject the null hypothesis: The average weight is significantly different from 150 grams.\")\n",
    "else:\n",
    "    print(\"Fail to reject the null hypothesis: There is no significant difference in average weight from 150 grams.\")"
   ]
  },
  {
   "cell_type": "code",
   "execution_count": null,
   "id": "dd022c35-6cf3-48b1-b17c-6eaa0a86c2c0",
   "metadata": {},
   "outputs": [],
   "source": []
  }
 ],
 "metadata": {
  "kernelspec": {
   "display_name": "Python 3 (ipykernel)",
   "language": "python",
   "name": "python3"
  },
  "language_info": {
   "codemirror_mode": {
    "name": "ipython",
    "version": 3
   },
   "file_extension": ".py",
   "mimetype": "text/x-python",
   "name": "python",
   "nbconvert_exporter": "python",
   "pygments_lexer": "ipython3",
   "version": "3.13.5"
  }
 },
 "nbformat": 4,
 "nbformat_minor": 5
}
