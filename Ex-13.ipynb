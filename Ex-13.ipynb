{
 "cells": [
  {
   "cell_type": "code",
   "execution_count": 8,
   "id": "b91a81e1-ebb4-49b5-9b76-6d3ec459f0ca",
   "metadata": {},
   "outputs": [],
   "source": [
    "import numpy as np\n",
    "import scipy.stats as stats\n",
    "np.random.seed(42)"
   ]
  },
  {
   "cell_type": "code",
   "execution_count": 9,
   "id": "940afa9d-b390-4e7f-a4cc-8e65fbf5ee9b",
   "metadata": {},
   "outputs": [],
   "source": [
    "sample_size = 25\n",
    "sample_data = np.random.normal(loc=102, scale=15, size=sample_size)  \n",
    "population_mean = 100"
   ]
  },
  {
   "cell_type": "code",
   "execution_count": 10,
   "id": "b57101c9-830c-4389-ad7b-785806535d56",
   "metadata": {},
   "outputs": [],
   "source": [
    "sample_mean = np.mean(sample_data)\n",
    "sample_std = np.std(sample_data, ddof=1)\n",
    "n = len(sample_data)"
   ]
  },
  {
   "cell_type": "code",
   "execution_count": 11,
   "id": "addf9389-5a52-4410-8a08-9121c8accc14",
   "metadata": {},
   "outputs": [],
   "source": [
    "t_statistic, p_value = stats.ttest_1samp(sample_data, population_mean)"
   ]
  },
  {
   "cell_type": "code",
   "execution_count": 12,
   "id": "313584e3-a05b-4cf5-84f7-22ce9ade6652",
   "metadata": {},
   "outputs": [
    {
     "name": "stdout",
     "output_type": "stream",
     "text": [
      "Sample Mean: 99.55\n",
      "T-Statistic: -0.1577\n",
      "P-Value: 0.8760\n",
      "Fail to reject the null hypothesis: There is no significant difference in average IQ score from 100.\n"
     ]
    }
   ],
   "source": [
    "print(f\"Sample Mean: {sample_mean:.2f}\")\n",
    "print(f\"T-Statistic: {t_statistic:.4f}\")\n",
    "print(f\"P-Value: {p_value:.4f}\")\n",
    "alpha = 0.05\n",
    "if p_value < alpha:\n",
    "    print(\"Reject the null hypothesis: The average IQ score is significantly different from 100.\")\n",
    "else:\n",
    "    print(\"Fail to reject the null hypothesis: There is no significant difference in average IQ score from 100.\")"
   ]
  },
  {
   "cell_type": "code",
   "execution_count": null,
   "id": "74fc5854-bde9-4d7b-b015-5234b78aba49",
   "metadata": {},
   "outputs": [],
   "source": []
  }
 ],
 "metadata": {
  "kernelspec": {
   "display_name": "Python 3 (ipykernel)",
   "language": "python",
   "name": "python3"
  },
  "language_info": {
   "codemirror_mode": {
    "name": "ipython",
    "version": 3
   },
   "file_extension": ".py",
   "mimetype": "text/x-python",
   "name": "python",
   "nbconvert_exporter": "python",
   "pygments_lexer": "ipython3",
   "version": "3.13.5"
  }
 },
 "nbformat": 4,
 "nbformat_minor": 5
}
